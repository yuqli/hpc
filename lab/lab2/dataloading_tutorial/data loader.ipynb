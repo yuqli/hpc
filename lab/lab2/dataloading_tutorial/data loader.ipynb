{
 "cells": [
  {
   "cell_type": "code",
   "execution_count": 1,
   "metadata": {},
   "outputs": [],
   "source": [
    "import numpy as np\n",
    "import torch\n",
    "import torchvision\n",
    "from torchvision import datasets, transforms\n",
    "from torch.utils.data import Dataset\n",
    "from torch.utils.data.sampler import SubsetRandomSampler\n",
    "from torch.utils.data.sampler import SubsetRandomSampler"
   ]
  },
  {
   "cell_type": "code",
   "execution_count": 2,
   "metadata": {},
   "outputs": [],
   "source": [
    "class MyCustomPixelDataset(Dataset):\n",
    "    \"\"\"\n",
    "    This dataset is a toy dataset that acts like 2x2 version of MNIST\n",
    "    with the trace as labels.\n",
    "    \"\"\"\n",
    "    def __init__(self, size=1, transform=None):\n",
    "        super(MyCustomPixelDataset, self).__init__()\n",
    "        \n",
    "        # size determines length of dataset\n",
    "        self.size = size\n",
    "        \n",
    "        # generate random 2x2 matrices with values in [0, 255]\n",
    "        self.matrices = [np.random.randint(256, size=(2, 2)) for i in range(self.size)]\n",
    "        \n",
    "        # our dataset will be a list of (ndarray, label) tuples where the label is the trace\n",
    "        # reshape our matrices into (2x2x1) ndarrays so that transforms.ToTensor()\n",
    "        # has the appropriate expected shape\n",
    "        self.matrices = [(np.reshape(np.array([matrix]), (2,2,1)), np.trace(matrix)) for matrix in self.matrices]\n",
    "        \n",
    "        # if we're passed a transform then apply it to the first element of our tuple (the input)\n",
    "        if transform:\n",
    "            self.matrices = [(transform(element[0]), element[1]) for element in self.matrices]\n",
    "        \n",
    "    # length should just be the size although we don't validate size (i.e. should be an int > 0)\n",
    "    def __len__(self):\n",
    "        return self.size\n",
    "    \n",
    "    # implement __getitem__ as the indexed tuple \n",
    "    def __getitem__(self, index):\n",
    "        #assert 0 <= index <= self.b - self.a\n",
    "        \n",
    "        return self.matrices[index]"
   ]
  },
  {
   "cell_type": "code",
   "execution_count": 13,
   "metadata": {},
   "outputs": [],
   "source": [
    "my_dataset = MyCustomPixelDataset(size = 12, transform = transforms.ToTensor())"
   ]
  },
  {
   "cell_type": "code",
   "execution_count": 14,
   "metadata": {},
   "outputs": [
    {
     "data": {
      "text/plain": [
       "(tensor([[[ 51,  89],\n",
       "          [ 30, 206]]]), 257)"
      ]
     },
     "execution_count": 14,
     "metadata": {},
     "output_type": "execute_result"
    }
   ],
   "source": [
    "my_dataset.matrices[0]"
   ]
  },
  {
   "cell_type": "code",
   "execution_count": 15,
   "metadata": {},
   "outputs": [],
   "source": [
    "my_dataset_loader = torch.utils.data.DataLoader(dataset=my_dataset, \n",
    "                                           batch_size=4, \n",
    "                                           shuffle=True)"
   ]
  },
  {
   "cell_type": "code",
   "execution_count": 19,
   "metadata": {
    "scrolled": true
   },
   "outputs": [
    {
     "name": "stdout",
     "output_type": "stream",
     "text": [
      "0 0 tensor([288, 231, 358, 328])\n",
      "0 1 tensor([161, 336, 242, 257])\n",
      "0 2 tensor([148, 312, 330, 482])\n",
      "1 0 tensor([242, 358, 312, 328])\n",
      "1 1 tensor([231, 288, 257, 336])\n",
      "1 2 tensor([330, 148, 161, 482])\n"
     ]
    }
   ],
   "source": [
    "for epoch in range(2):   \n",
    "    for batch_index, (inputs, labels) in enumerate(my_dataset_loader):\n",
    "        print(epoch, batch_index, labels)"
   ]
  },
  {
   "cell_type": "code",
   "execution_count": 22,
   "metadata": {},
   "outputs": [
    {
     "name": "stdout",
     "output_type": "stream",
     "text": [
      "4 1\n",
      "5 2\n",
      "6 3\n"
     ]
    }
   ],
   "source": [
    "for i, a in enumerate([1, 2, 3], 4):\n",
    "    print(i, a)"
   ]
  }
 ],
 "metadata": {
  "kernelspec": {
   "display_name": "Python 3",
   "language": "python",
   "name": "python3"
  },
  "language_info": {
   "codemirror_mode": {
    "name": "ipython",
    "version": 3
   },
   "file_extension": ".py",
   "mimetype": "text/x-python",
   "name": "python",
   "nbconvert_exporter": "python",
   "pygments_lexer": "ipython3",
   "version": "3.6.6"
  }
 },
 "nbformat": 4,
 "nbformat_minor": 2
}
